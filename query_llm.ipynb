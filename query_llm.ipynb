{
 "cells": [
  {
   "cell_type": "code",
   "execution_count": 1,
   "metadata": {},
   "outputs": [],
   "source": [
    "from query_api import query_api\n",
    "from schedule_parser import TimetableProcessor\n"
   ]
  },
  {
   "cell_type": "code",
   "execution_count": 2,
   "metadata": {},
   "outputs": [
    {
     "name": "stdout",
     "output_type": "stream",
     "text": [
      "\n"
     ]
    }
   ],
   "source": [
    "processor = TimetableProcessor(database_type=\"sqlite\")  # or \"csv\"\n",
    "current_events = processor.format_events_as_llm_output(include_header=False)\n",
    "print(current_events)"
   ]
  },
  {
   "cell_type": "code",
   "execution_count": 7,
   "metadata": {},
   "outputs": [
    {
     "name": "stdout",
     "output_type": "stream",
     "text": [
      "你的输入：我明天下午三点半要去小组讨论，大概两小时\n",
      "模型推理时间：10.023371458053589秒\n",
      "\n",
      "模型回复：\n",
      "新任务：小组讨论\n",
      "小组讨论 → 拆分为：\n",
      "- 准备小组讨论（预计需一小时，时段：2025-03-07 10:30-11:30）\n",
      "- 参加小组讨论（预计需两小时，时段：2025-03-07 15:30-17:30）\n",
      "\n",
      "日程建议：\n",
      "事项: 写代码\n",
      "日期: 2025-03-06\n",
      "时间段: 19:30-20:30\n",
      "类型: 任务事项\n",
      "截止日期：2025-03-06\n",
      "重要程度：3\n",
      "变动：无\n",
      "\n",
      "事项: 与周姐开会\n",
      "日期: 2025-03-07\n",
      "时间段: 09:00-10:00\n",
      "类型: 固定日程\n",
      "截止日期：2025-03-07\n",
      "重要程度：5\n",
      "变动：无\n",
      "\n",
      "事项: 准备小组讨论\n",
      "日期: 2025-03-07\n",
      "时间段: 10:30-11:30\n",
      "类型: 任务事项\n",
      "截止日期：2025-03-07\n",
      "重要程度：4\n",
      "变动：新增\n",
      "\n",
      "事项: 参加小组讨论\n",
      "日期: 2025-03-07\n",
      "时间段: 15:30-17:30\n",
      "类型: 固定日程\n",
      "截止日期：2025-03-07\n",
      "重要程度：5\n",
      "变动：新增\n"
     ]
    }
   ],
   "source": [
    "import time\n",
    "\n",
    "processor = TimetableProcessor(database_type=\"sqlite\")  # or \"csv\"\n",
    "current_events = processor.format_events_as_llm_output(include_header=False)\n",
    "user_prompt = input(\"你有什么想放进计划表的东西吗？\")\n",
    "print(f\"你的输入：{user_prompt}\")\n",
    "start_time = time.time()\n",
    "#response = query_api(user_prompt, current_events, model=\"deepseek-chat\")\n",
    "response = query_api(user_prompt, current_events, model=\"gpt-4o\")\n",
    "end_time = time.time()\n",
    "print(f\"模型推理时间：{end_time - start_time}秒\")\n",
    "print(\"\\n模型回复：\")\n",
    "print(response)"
   ]
  },
  {
   "cell_type": "code",
   "execution_count": 8,
   "metadata": {},
   "outputs": [
    {
     "name": "stdout",
     "output_type": "stream",
     "text": [
      "Extracted 4 events from LLM output\n",
      "Event 1: 写代码 - 2025-03-06 - 无\n",
      "Event 2: 与周姐开会 - 2025-03-07 - 无\n",
      "Event 3: 准备小组讨论 - 2025-03-07 - 新增\n",
      "Event 4: 参加小组讨论 - 2025-03-07 - 新增\n",
      "{'added': 2, 'modified': 0, 'deleted': 0, 'unchanged': 2, 'skipped': 0, 'errors': [], 'warnings': []}\n",
      "日程变更明细：\n",
      "\n",
      "----------------------------------------\n",
      "\n",
      "[ ] 事项: 写代码\n",
      "    日期: 2025-03-06\n",
      "    时间段: 19:30-20:30\n",
      "    类型: 任务事项\n",
      "    截止日期：2025-03-06\n",
      "    重要程度：3\n",
      "\n",
      "[ ] 事项: 与周姐开会\n",
      "    日期: 2025-03-07\n",
      "    时间段: 09:00-10:00\n",
      "    类型: 固定日程\n",
      "    截止日期：2025-03-07\n",
      "    重要程度：5\n",
      "\n",
      "[+] 事项: 准备小组讨论 (新增)\n",
      "    日期: 2025-03-07\n",
      "    时间段: 10:30-11:30\n",
      "    类型: 任务事项\n",
      "    截止日期：2025-03-07\n",
      "    重要程度：4\n",
      "\n",
      "[+] 事项: 参加小组讨论 (新增)\n",
      "    日期: 2025-03-07\n",
      "    时间段: 15:30-17:30\n",
      "    类型: 固定日程\n",
      "    截止日期：2025-03-07\n",
      "    重要程度：5\n"
     ]
    }
   ],
   "source": [
    "# 获取修改前的所有事件\n",
    "old_events = processor.get_all_events()\n",
    "\n",
    "# 进行一些修改操作...\n",
    "summary = processor.process_events(response)\n",
    "print(summary)\n",
    "\n",
    "# 获取修改后的所有事件\n",
    "new_events = processor.get_all_events()\n",
    "\n",
    "# 显示变更\n",
    "changes = processor.format_events_with_changes(old_events, new_events, include_header=True)\n",
    "print(changes)"
   ]
  },
  {
   "cell_type": "code",
   "execution_count": 6,
   "metadata": {},
   "outputs": [
    {
     "name": "stdout",
     "output_type": "stream",
     "text": [
      "\n"
     ]
    }
   ],
   "source": [
    "# This gets all the events in the database\n",
    "formatted_output = processor.format_events_as_llm_output()\n",
    "print(formatted_output)\n",
    "\n",
    "# This gets all the events for a specific date\n",
    "today_events = processor.get_events_for_date(\"2025-03-03\")\n",
    "today_formatted = processor.format_events_as_llm_output(today_events)\n",
    "#print(today_formatted)"
   ]
  },
  {
   "cell_type": "code",
   "execution_count": 5,
   "metadata": {},
   "outputs": [
    {
     "name": "stdout",
     "output_type": "stream",
     "text": [
      "删除了 9 个事件\n",
      "- 准备会议材料 (2025-03-04 08:00-10:00)\n",
      "- 选择花束 (2025-03-05 18:00-18:30)\n",
      "- 下单购买 (2025-03-05 18:30-19:00)\n",
      "- 分析需求 (2025-03-04 10:30-11:30)\n",
      "- 编写代码 (2025-03-04 11:00-13:00)\n",
      "- 测试与调试 (2025-03-04 13:15-14:15)\n",
      "- 吃早饭 (2025-03-04 07:00-07:30)\n",
      "- 遛狗 (2025-03-04 07:30-08:00)\n",
      "- 运动 (2025-03-04 20:30-21:30)\n"
     ]
    }
   ],
   "source": [
    "# 使用当前时间删除过期事件\n",
    "result = processor.delete_past_events()\n",
    "\n",
    "# 查看删除结果\n",
    "print(f\"删除了 {result['deleted_count']} 个事件\")\n",
    "for event in result['deleted_events']:\n",
    "    print(f\"- {event['title']} ({event['date']} {event['time_range']})\")"
   ]
  }
 ],
 "metadata": {
  "kernelspec": {
   "display_name": "TaskMate",
   "language": "python",
   "name": "python3"
  },
  "language_info": {
   "codemirror_mode": {
    "name": "ipython",
    "version": 3
   },
   "file_extension": ".py",
   "mimetype": "text/x-python",
   "name": "python",
   "nbconvert_exporter": "python",
   "pygments_lexer": "ipython3",
   "version": "3.10.16"
  }
 },
 "nbformat": 4,
 "nbformat_minor": 2
}
