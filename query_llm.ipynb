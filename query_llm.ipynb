{
 "cells": [
  {
   "cell_type": "code",
   "execution_count": 1,
   "metadata": {},
   "outputs": [],
   "source": [
    "from query_api import query_api\n",
    "from schedule_parser import TimetableProcessor\n"
   ]
  },
  {
   "cell_type": "code",
   "execution_count": 2,
   "metadata": {},
   "outputs": [
    {
     "name": "stdout",
     "output_type": "stream",
     "text": [
      "\n"
     ]
    }
   ],
   "source": [
    "processor = TimetableProcessor(database_type=\"sqlite\")  # or \"csv\"\n",
    "current_events = processor.format_events_as_llm_output(include_header=False, limit=20)\n",
    "print(current_events)"
   ]
  },
  {
   "cell_type": "code",
   "execution_count": 3,
   "metadata": {},
   "outputs": [
    {
     "name": "stdout",
     "output_type": "stream",
     "text": [
      "你的输入：hh\n",
      "模型推理时间：11.743322849273682秒\n",
      "\n",
      "模型回复：\n",
      "新任务：hh\n",
      "hh → 拆分为：\n",
      "- hh（预计需一小时，时段：2025-03-09 09:00-10:00）\n",
      "\n",
      "日程建议：\n",
      "事项: hh\n",
      "日期: 2025-03-09\n",
      "时间段: 09:00-10:00\n",
      "类型: 任务事项\n",
      "截止日期：2025-03-09\n",
      "重要程度：3\n",
      "变动：新增\n"
     ]
    }
   ],
   "source": [
    "import time\n",
    "\n",
    "processor = TimetableProcessor(database_type=\"sqlite\")  # or \"csv\"\n",
    "current_events = processor.format_events_as_llm_output(include_header=False, limit=20)\n",
    "user_prompt = input(\"你有什么想放进计划表的东西吗？\")\n",
    "print(f\"你的输入：{user_prompt}\")\n",
    "start_time = time.time()\n",
    "response = query_api(user_prompt, current_events, model=\"deepseek-chat\")\n",
    "#response = query_api(user_prompt, current_events, model=\"gpt-4o\")\n",
    "end_time = time.time()\n",
    "print(f\"模型推理时间：{end_time - start_time}秒\")\n",
    "print(\"\\n模型回复：\")\n",
    "print(response)"
   ]
  },
  {
   "cell_type": "code",
   "execution_count": 5,
   "metadata": {},
   "outputs": [
    {
     "name": "stdout",
     "output_type": "stream",
     "text": [
      "Extracted 5 events from LLM output\n",
      "Event 1: 睡觉 - 2025-03-08 - 新增\n",
      "Event 2: 洗漱 - 2025-03-08 - 新增\n",
      "Event 3: 早餐 - 2025-03-08 - 新增\n",
      "Event 4: 午餐 - 2025-03-08 - 新增\n",
      "Event 5: 晚餐 - 2025-03-08 - 新增\n"
     ]
    }
   ],
   "source": [
    "#processor = TimetableProcessor()\n",
    "#result = processor.process_recurring_events(response, recurrence_rule='daily')\n",
    "\n",
    "# 将事件ID为5的事件设置为每周重复，直到指定日期\n",
    "#result = processor.apply_recurrence_to_event(5, recurrence_rule='weekly', end_date='2024-12-31')\n",
    "\n",
    "#recurring_events = processor.get_recurring_events()\n",
    "\n",
    "#success = processor.remove_recurrence(5)"
   ]
  },
  {
   "cell_type": "code",
   "execution_count": null,
   "metadata": {},
   "outputs": [],
   "source": [
    "# 获取修改前的所有事件\n",
    "old_events = processor.get_all_events()\n",
    "\n",
    "# 进行一些修改操作...\n",
    "summary = processor.process_events(response)\n",
    "print(summary)\n",
    "\n",
    "# 获取修改后的所有事件\n",
    "new_events = processor.get_all_events()\n",
    "\n",
    "# 显示变更\n",
    "changes = processor.format_events_with_changes(old_events, new_events, include_header=True, limit=20)\n",
    "print(changes)"
   ]
  },
  {
   "cell_type": "code",
   "execution_count": 6,
   "metadata": {},
   "outputs": [
    {
     "name": "stdout",
     "output_type": "stream",
     "text": [
      "事项: 写代码\n",
      "日期: 2025-03-06\n",
      "时间段: 19:30-20:30\n",
      "类型: 任务事项\n",
      "截止日期：2025-03-06\n",
      "重要程度：3\n",
      "\n",
      "事项: 与周姐开会\n",
      "日期: 2025-03-07\n",
      "时间段: 09:00-10:00\n",
      "类型: 固定日程\n",
      "截止日期：2025-03-07\n",
      "重要程度：5\n",
      "\n",
      "事项: 准备小组讨论\n",
      "日期: 2025-03-07\n",
      "时间段: 10:30-11:30\n",
      "类型: 任务事项\n",
      "截止日期：2025-03-07\n",
      "重要程度：4\n",
      "\n",
      "事项: 参加小组讨论\n",
      "日期: 2025-03-07\n",
      "时间段: 15:30-17:30\n",
      "类型: 固定日程\n",
      "截止日期：2025-03-07\n",
      "重要程度：5\n",
      "\n",
      "事项: 洗漱\n",
      "日期: 2025-03-08\n",
      "时间段: 06:00-06:30\n",
      "类型: 任务事项\n",
      "截止日期：2025-03-08\n",
      "重要程度：5\n",
      "\n",
      "事项: 早餐\n",
      "日期: 2025-03-08\n",
      "时间段: 07:00-07:30\n",
      "类型: 任务事项\n",
      "截止日期：2025-03-08\n",
      "重要程度：5\n",
      "\n",
      "事项: 午餐\n",
      "日期: 2025-03-08\n",
      "时间段: 12:00-13:00\n",
      "类型: 任务事项\n",
      "截止日期：2025-03-08\n",
      "重要程度：5\n",
      "\n",
      "事项: 晚餐\n",
      "日期: 2025-03-08\n",
      "时间段: 18:00-19:00\n",
      "类型: 任务事项\n",
      "截止日期：2025-03-08\n",
      "重要程度：5\n",
      "\n",
      "事项: 睡觉\n",
      "日期: 2025-03-08\n",
      "时间段: 22:00-06:00\n",
      "类型: 任务事项\n",
      "截止日期：2025-03-08\n",
      "重要程度：5\n",
      "\n",
      "事项: 洗漱\n",
      "日期: 2025-03-09\n",
      "时间段: 06:00-06:30\n",
      "类型: 任务事项\n",
      "截止日期：2025-03-08\n",
      "重要程度：5\n",
      "\n",
      "事项: 早餐\n",
      "日期: 2025-03-09\n",
      "时间段: 07:00-07:30\n",
      "类型: 任务事项\n",
      "截止日期：2025-03-08\n",
      "重要程度：5\n",
      "\n",
      "事项: 午餐\n",
      "日期: 2025-03-09\n",
      "时间段: 12:00-13:00\n",
      "类型: 任务事项\n",
      "截止日期：2025-03-08\n",
      "重要程度：5\n",
      "\n",
      "事项: 晚餐\n",
      "日期: 2025-03-09\n",
      "时间段: 18:00-19:00\n",
      "类型: 任务事项\n",
      "截止日期：2025-03-08\n",
      "重要程度：5\n",
      "\n",
      "事项: 睡觉\n",
      "日期: 2025-03-09\n",
      "时间段: 22:00-06:00\n",
      "类型: 任务事项\n",
      "截止日期：2025-03-08\n",
      "重要程度：5\n",
      "\n",
      "事项: 洗漱\n",
      "日期: 2025-03-10\n",
      "时间段: 06:00-06:30\n",
      "类型: 任务事项\n",
      "截止日期：2025-03-08\n",
      "重要程度：5\n",
      "\n",
      "事项: 早餐\n",
      "日期: 2025-03-10\n",
      "时间段: 07:00-07:30\n",
      "类型: 任务事项\n",
      "截止日期：2025-03-08\n",
      "重要程度：5\n",
      "\n",
      "事项: 午餐\n",
      "日期: 2025-03-10\n",
      "时间段: 12:00-13:00\n",
      "类型: 任务事项\n",
      "截止日期：2025-03-08\n",
      "重要程度：5\n",
      "\n",
      "事项: 晚餐\n",
      "日期: 2025-03-10\n",
      "时间段: 18:00-19:00\n",
      "类型: 任务事项\n",
      "截止日期：2025-03-08\n",
      "重要程度：5\n",
      "\n",
      "事项: 睡觉\n",
      "日期: 2025-03-10\n",
      "时间段: 22:00-06:00\n",
      "类型: 任务事项\n",
      "截止日期：2025-03-08\n",
      "重要程度：5\n",
      "\n",
      "事项: 洗漱\n",
      "日期: 2025-03-11\n",
      "时间段: 06:00-06:30\n",
      "类型: 任务事项\n",
      "截止日期：2025-03-08\n",
      "重要程度：5\n"
     ]
    }
   ],
   "source": [
    "# This gets all the events in the database\n",
    "formatted_output = processor.format_events_as_llm_output(limit=20)\n",
    "print(formatted_output)\n",
    "\n",
    "# This gets all the events for a specific date\n",
    "today_events = processor.get_events_for_date(\"2025-03-03\")\n",
    "today_formatted = processor.format_events_as_llm_output(today_events)\n",
    "#print(today_formatted)"
   ]
  },
  {
   "cell_type": "code",
   "execution_count": 5,
   "metadata": {},
   "outputs": [
    {
     "name": "stdout",
     "output_type": "stream",
     "text": [
      "删除了 9 个事件\n",
      "- 准备会议材料 (2025-03-04 08:00-10:00)\n",
      "- 选择花束 (2025-03-05 18:00-18:30)\n",
      "- 下单购买 (2025-03-05 18:30-19:00)\n",
      "- 分析需求 (2025-03-04 10:30-11:30)\n",
      "- 编写代码 (2025-03-04 11:00-13:00)\n",
      "- 测试与调试 (2025-03-04 13:15-14:15)\n",
      "- 吃早饭 (2025-03-04 07:00-07:30)\n",
      "- 遛狗 (2025-03-04 07:30-08:00)\n",
      "- 运动 (2025-03-04 20:30-21:30)\n"
     ]
    }
   ],
   "source": [
    "# 使用当前时间删除过期事件\n",
    "result = processor.delete_past_events()\n",
    "\n",
    "# 查看删除结果\n",
    "print(f\"删除了 {result['deleted_count']} 个事件\")\n",
    "for event in result['deleted_events']:\n",
    "    print(f\"- {event['title']} ({event['date']} {event['time_range']})\")"
   ]
  }
 ],
 "metadata": {
  "kernelspec": {
   "display_name": "Python 3",
   "language": "python",
   "name": "python3"
  },
  "language_info": {
   "codemirror_mode": {
    "name": "ipython",
    "version": 3
   },
   "file_extension": ".py",
   "mimetype": "text/x-python",
   "name": "python",
   "nbconvert_exporter": "python",
   "pygments_lexer": "ipython3",
   "version": "3.10.16"
  }
 },
 "nbformat": 4,
 "nbformat_minor": 2
}
